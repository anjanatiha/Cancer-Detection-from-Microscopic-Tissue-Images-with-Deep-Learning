{
 "cells": [
  {
   "cell_type": "markdown",
   "metadata": {},
   "source": [
    "moves file from main directory where images are not diferent directories based on label or catagories and move them to category wise train/test/validation directory"
   ]
  },
  {
   "cell_type": "code",
   "execution_count": null,
   "metadata": {},
   "outputs": [],
   "source": [
    "import os\n",
    "import shutil\n",
    "from tqdm import tqdm\n",
    "\n",
    "# move file in accordance to percent\n",
    "def move(from_path, to_path, percent):\n",
    "    from_small = False\n",
    "    from_files = os.listdir(from_path)\n",
    "    to_files = os.listdir(to_path)\n",
    "    \n",
    "    from_files_len = len(from_files)\n",
    "    to_files_len = len(to_files)\n",
    "    \n",
    "    total_files_num = from_files_len + to_files_len\n",
    "    \n",
    "    max_num = (total_files_num)*(percent/100)\n",
    "    max_num = max_num-1\n",
    "    \n",
    "    if from_files_len<to_files_len:\n",
    "        from_path, to_path = to_path, from_path\n",
    "        from_files = os.listdir(from_path)\n",
    "        to_files = os.listdir(to_path)\n",
    "        \n",
    "    \n",
    "    i=len(to_files)-1\n",
    "    \n",
    "    for name in tqdm(from_files):\n",
    "        from_small = True\n",
    "        if i>=max_num:\n",
    "            break\n",
    "            \n",
    "        from_file = os.path.join(from_path, name)\n",
    "        to_file = os.path.join(to_path, name)\n",
    "        shutil.move(from_file, to_file)\n",
    "        i+=1\n",
    "\n",
    "    if from_small:\n",
    "        from_path, to_path = to_path, from_path\n",
    "    \n",
    "    from_files = os.listdir(from_path)\n",
    "    to_files = os.listdir(to_path)\n",
    "    \n",
    "    from_files_len = len(from_files)\n",
    "    to_files_len = len(to_files)\n",
    "    \n",
    "    print(\"Percentile: %d:\\nFrom(%s):%s\\nTo(%s):%s\"% (percent, from_path, from_files_len, to_path, to_files_len))\n",
    "    \n",
    "    return from_files_len, to_files_len"
   ]
  },
  {
   "cell_type": "code",
   "execution_count": null,
   "metadata": {},
   "outputs": [],
   "source": [
    "test_norm = r'data\\test\\NORMAL'\n",
    "test_pneu = r'data\\test\\PNEUMONIA'\n",
    "\n",
    "val_norm = r'data\\val\\NORMAL'\n",
    "val_pneu = r'data\\val\\PNEUMONIA'\n",
    "\n",
    "test_norm_files = os.listdir(test_norm)\n",
    "test_pneu_files = os.listdir(test_pneu)\n",
    "\n",
    "print('Data load initiated')\n",
    "\n",
    "move(test_norm, val_norm, 50)\n",
    "move(test_pneu, val_pneu, 50)\n"
   ]
  }
 ],
 "metadata": {
  "kernelspec": {
   "display_name": "Python 3",
   "language": "python",
   "name": "python3"
  },
  "language_info": {
   "codemirror_mode": {
    "name": "ipython",
    "version": 3
   },
   "file_extension": ".py",
   "mimetype": "text/x-python",
   "name": "python",
   "nbconvert_exporter": "python",
   "pygments_lexer": "ipython3",
   "version": "3.6.5"
  }
 },
 "nbformat": 4,
 "nbformat_minor": 2
}
