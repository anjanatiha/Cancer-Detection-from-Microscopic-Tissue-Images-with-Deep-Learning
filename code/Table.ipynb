{
 "cells": [
  {
   "cell_type": "code",
   "execution_count": null,
   "metadata": {},
   "outputs": [],
   "source": [
    "from tabulate import tabulate\n",
    "print(tabulate([['Alice', 24], ['Bob', 19]], headers=['Name', 'Age']))"
   ]
  },
  {
   "cell_type": "code",
   "execution_count": 4,
   "metadata": {},
   "outputs": [
    {
     "name": "stdout",
     "output_type": "stream",
     "text": [
      "+-------+-----+\n",
      "|  Name | Age |\n",
      "+-------+-----+\n",
      "| Alice |  24 |\n",
      "|  Bob  |  19 |\n",
      "+-------+-----+\n"
     ]
    }
   ],
   "source": [
    "from prettytable import PrettyTable\n",
    "t = PrettyTable(['Name', 'Age'])\n",
    "t.add_row(['Alice', 24])\n",
    "t.add_row(['Bob', 19])\n",
    "print(t)"
   ]
  },
  {
   "cell_type": "code",
   "execution_count": 6,
   "metadata": {},
   "outputs": [
    {
     "name": "stdout",
     "output_type": "stream",
     "text": [
      "+-------+-----+\n",
      "| Name  | Age |\n",
      "+=======+=====+\n",
      "| Alice | 24  |\n",
      "+-------+-----+\n",
      "| Bob   | 19  |\n",
      "+-------+-----+\n"
     ]
    }
   ],
   "source": [
    "from texttable import Texttable\n",
    "t = Texttable()\n",
    "t.add_rows([['Name', 'Age'], ['Alice', 24], ['Bob', 19]])\n",
    "print(t.draw())"
   ]
  },
  {
   "cell_type": "code",
   "execution_count": 9,
   "metadata": {},
   "outputs": [
    {
     "name": "stdout",
     "output_type": "stream",
     "text": [
      "+----------+------+--------+\n",
      "|   name   | rank | gender |\n",
      "+----------+------+--------+\n",
      "|  Jacob   |  1   |  boy   |\n",
      "+----------+------+--------+\n",
      "| Isabella |  1   |  girl  |\n",
      "+----------+------+--------+\n",
      "|  Ethan   |  2   |  boy   |\n",
      "+----------+------+--------+\n",
      "|  Sophia  |  2   |  girl  |\n",
      "+----------+------+--------+\n",
      "| Michael  |  3   |  boy   |\n",
      "+----------+------+--------+\n"
     ]
    }
   ],
   "source": [
    "from beautifultable import BeautifulTable\n",
    "table = BeautifulTable()\n",
    "table.column_headers = [\"name\", \"rank\", \"gender\"]\n",
    "table.append_row([\"Jacob\", 1, \"boy\"])\n",
    "table.append_row([\"Isabella\", 1, \"girl\"])\n",
    "table.append_row([\"Ethan\", 2, \"boy\"])\n",
    "table.append_row([\"Sophia\", 2, \"girl\"])\n",
    "table.append_row([\"Michael\", 3, \"boy\"])\n",
    "print(table)"
   ]
  }
 ],
 "metadata": {
  "kernelspec": {
   "display_name": "Python 3",
   "language": "python",
   "name": "python3"
  },
  "language_info": {
   "codemirror_mode": {
    "name": "ipython",
    "version": 3
   },
   "file_extension": ".py",
   "mimetype": "text/x-python",
   "name": "python",
   "nbconvert_exporter": "python",
   "pygments_lexer": "ipython3",
   "version": "3.6.5"
  }
 },
 "nbformat": 4,
 "nbformat_minor": 2
}
